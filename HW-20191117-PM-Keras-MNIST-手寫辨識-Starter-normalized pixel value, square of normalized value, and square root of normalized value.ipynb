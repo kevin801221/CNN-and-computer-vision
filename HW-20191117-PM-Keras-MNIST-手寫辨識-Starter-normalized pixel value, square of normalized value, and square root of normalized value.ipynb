{
 "cells": [
  {
   "cell_type": "code",
   "execution_count": 1,
   "metadata": {},
   "outputs": [
    {
     "name": "stderr",
     "output_type": "stream",
     "text": [
      "Using CNTK backend\n"
     ]
    },
    {
     "name": "stdout",
     "output_type": "stream",
     "text": [
      "GPU\n"
     ]
    }
   ],
   "source": [
    "# 如何知道有多少數據\n",
    "from keras import datasets\n",
    "from keras.utils import to_categorical\n",
    "import numpy as np\n",
    "import matplotlib.pyplot as plt\n",
    "#print(dir(datasets))"
   ]
  },
  {
   "cell_type": "code",
   "execution_count": 2,
   "metadata": {},
   "outputs": [],
   "source": [
    "from keras.datasets import mnist"
   ]
  },
  {
   "cell_type": "code",
   "execution_count": 3,
   "metadata": {},
   "outputs": [
    {
     "data": {
      "text/plain": [
       "((60000, 28, 28), (60000,), (10000, 28, 28), (10000,))"
      ]
     },
     "execution_count": 3,
     "metadata": {},
     "output_type": "execute_result"
    }
   ],
   "source": [
    "# 數據是28 * 28 = 784\n",
    "(X_train, y_train), (X_test, y_test) = mnist.load_data()\n",
    "X_train.shape, y_train.shape, X_test.shape, y_test.shape"
   ]
  },
  {
   "cell_type": "code",
   "execution_count": 4,
   "metadata": {},
   "outputs": [
    {
     "data": {
      "image/png": "[encoded data removed]",
      "text/plain": [
       "<Figure size 72x72 with 1 Axes>"
      ]
     },
     "metadata": {
      "needs_background": "light"
     },
     "output_type": "display_data"
    }
   ],
   "source": [
    "# 畫一張\n",
    "plt.figure(figsize=(1,1))\n",
    "plt.imshow(X_train[0], cmap='gray')\n",
    "plt.axis('off')\n",
    "plt.show()"
   ]
  },
  {
   "cell_type": "code",
   "execution_count": null,
   "metadata": {},
   "outputs": [],
   "source": [
    "# Lab2_LogisticRegression - 講解 - Lab\n",
    "# 增加 特徵數量 可以增加精準度\n",
    "# 試試看  (normalized pixel value, square of normalized value, and square root of normalized value). "
   ]
  },
  {
   "cell_type": "code",
   "execution_count": 5,
   "metadata": {},
   "outputs": [],
   "source": [
    "# data pre-processing\n",
    "X_train, X_test = X_train.astype(np.float32).reshape(60000, 784)/255, X_test.astype(np.float32).reshape(10000, 784)/255\n",
    "# one_hot encoding\n",
    "y_train_oh, y_test_oh = to_categorical(y_train), to_categorical(y_test) "
   ]
  },
  {
   "cell_type": "code",
   "execution_count": null,
   "metadata": {},
   "outputs": [],
   "source": [
    "# y_train[:10] , y_train_oh[:10]"
   ]
  },
  {
   "cell_type": "code",
   "execution_count": 6,
   "metadata": {},
   "outputs": [
    {
     "name": "stdout",
     "output_type": "stream",
     "text": [
      "_________________________________________________________________\n",
      "Layer (type)                 Output Shape              Param #   \n",
      "=================================================================\n",
      "dense_1 (Dense)              (None, 10)                7850      \n",
      "_________________________________________________________________\n",
      "dense_2 (Dense)              (None, 10)                110       \n",
      "=================================================================\n",
      "Total params: 7,960\n",
      "Trainable params: 7,960\n",
      "Non-trainable params: 0\n",
      "_________________________________________________________________\n"
     ]
    }
   ],
   "source": [
    "# build model\n",
    "from keras.models import Sequential\n",
    "from keras.layers import Dense\n",
    "from keras import optimizers\n",
    "model = Sequential()\n",
    "model.add( Dense(units=10, input_shape=(784,) ) )\n",
    "model.add( Dense(units=10, activation='softmax') )\n",
    "model.summary()"
   ]
  },
  {
   "cell_type": "code",
   "execution_count": 8,
   "metadata": {
    "collapsed": true
   },
   "outputs": [
    {
     "name": "stdout",
     "output_type": "stream",
     "text": [
      "Train on 54000 samples, validate on 6000 samples\n",
      "Epoch 1/10\n",
      "54000/54000 [==============================] - 3s 58us/step - loss: 0.2585 - acc: 0.9263 - val_loss: 0.2414 - val_acc: 0.9357\n",
      "Epoch 2/10\n",
      "54000/54000 [==============================] - 3s 54us/step - loss: 0.2572 - acc: 0.9281 - val_loss: 0.2533 - val_acc: 0.9317\n",
      "Epoch 3/10\n",
      "54000/54000 [==============================] - 3s 54us/step - loss: 0.2572 - acc: 0.9276 - val_loss: 0.2463 - val_acc: 0.9332\n",
      "Epoch 4/10\n",
      "54000/54000 [==============================] - 3s 55us/step - loss: 0.2566 - acc: 0.9274 - val_loss: 0.2506 - val_acc: 0.9333\n",
      "Epoch 5/10\n",
      "54000/54000 [==============================] - 3s 55us/step - loss: 0.2559 - acc: 0.9278 - val_loss: 0.2523 - val_acc: 0.9293\n",
      "Epoch 6/10\n",
      "54000/54000 [==============================] - 3s 55us/step - loss: 0.2563 - acc: 0.9273 - val_loss: 0.2462 - val_acc: 0.9325\n",
      "Epoch 7/10\n",
      "54000/54000 [==============================] - 3s 56us/step - loss: 0.2562 - acc: 0.9280 - val_loss: 0.2479 - val_acc: 0.9338\n",
      "Epoch 8/10\n",
      "54000/54000 [==============================] - 4s 70us/step - loss: 0.2550 - acc: 0.9279 - val_loss: 0.2581 - val_acc: 0.9300\n",
      "Epoch 9/10\n",
      "54000/54000 [==============================] - 4s 75us/step - loss: 0.2561 - acc: 0.9289 - val_loss: 0.2432 - val_acc: 0.9348\n",
      "Epoch 10/10\n",
      "54000/54000 [==============================] - 3s 63us/step - loss: 0.2547 - acc: 0.9284 - val_loss: 0.2525 - val_acc: 0.9310\n"
     ]
    }
   ],
   "source": [
    "# train model \n",
    "# ValueError: Error when checking target: expected dense_3 to have 2 dimensions\n",
    "# but got array with shape (60000, 10, 2, 2)\n",
    "# ValueError: Error when checking target: expected dense_6 to have shape (10,) but got array with shape (1,)\n",
    "\n",
    "model.compile(optimizer=optimizers.SGA( 0.2), loss='categorical_crossentropy', metrics=['accuracy'] )\n",
    "history = model.fit(X_train, y_train_oh, batch_size=64, validation_split=0.1, epochs=10, verbose=1)\n"
   ]
  },
  {
   "cell_type": "code",
   "execution_count": 9,
   "metadata": {},
   "outputs": [
    {
     "data": {
      "image/png": "[encoded data removed]",
      "text/plain": [
       "<Figure size 432x288 with 1 Axes>"
      ]
     },
     "metadata": {
      "needs_background": "light"
     },
     "output_type": "display_data"
    },
    {
     "data": {
      "image/png": "[encoded data removed]",
      "text/plain": [
       "<Figure size 432x288 with 1 Axes>"
      ]
     },
     "metadata": {
      "needs_background": "light"
     },
     "output_type": "display_data"
    }
   ],
   "source": [
    "# Plot\n",
    "plt.title('Accuracy of Keras')\n",
    "plt.plot(history.history['acc'], color='red')\n",
    "plt.plot(history.history['val_acc'], color='blue')\n",
    "plt.grid()\n",
    "plt.show()\n",
    "\n",
    "\n",
    "plt.title('Loss of Keras')\n",
    "plt.plot(history.history['loss'], color='red')\n",
    "plt.plot(history.history['val_loss'], color='blue')\n",
    "plt.grid()\n",
    "plt.show()"
   ]
  },
  {
   "cell_type": "code",
   "execution_count": 10,
   "metadata": {},
   "outputs": [
    {
     "name": "stdout",
     "output_type": "stream",
     "text": [
      "60000/60000 [==============================] - 4s 68us/step\n",
      "10000/10000 [==============================] - 1s 66us/step\n",
      "[0.2529372300858299, 0.9293666666666667] [0.2966662008479238, 0.9199]\n"
     ]
    }
   ],
   "source": [
    "# evaluate model \n",
    "print(model.evaluate(X_train, y_train_oh), model.evaluate(X_test, y_test_oh) )\n",
    "# predict model \n",
    "y_pred = model.predict(X_test)"
   ]
  },
  {
   "cell_type": "code",
   "execution_count": null,
   "metadata": {},
   "outputs": [],
   "source": [
    "# top 10 \n",
    "# 請你找一下那些數字是錯誤 slicing \n",
    "index_error = np.argmax(y_pred, axis=1) != np.argmax(y_test_oh, axis=1)\n",
    "\n",
    "X_error      =  X_test[ index_error ]\n",
    "y_error      =  y_test_oh[ index_error ]\n",
    "y_error_pred =  y_pred[ index_error ]\n",
    "\n",
    "print('Total error amount is {}'.format(X_error.shape[0]))\n",
    "\n",
    "# Plot for top 10 [:10]\n",
    "for i in range(10):\n",
    "    plt.figure(figsize=(1,1))\n",
    "    plt.title('GT:{} --> Pred:{}'.format(np.argmax(y_error[i]), np.argmax(y_error_pred[i])) )\n",
    "    plt.imshow(X_error[i].reshape(28,28), cmap='gray' )\n",
    "    plt.axis('off')\n",
    "    plt.show()"
   ]
  }
 ],
 "metadata": {
  "kernelspec": {
   "display_name": "Python 3",
   "language": "python",
   "name": "python3"
  },
  "language_info": {
   "codemirror_mode": {
    "name": "ipython",
    "version": 3
   },
   "file_extension": ".py",
   "mimetype": "text/x-python",
   "name": "python",
   "nbconvert_exporter": "python",
   "pygments_lexer": "ipython3",
   "version": "3.6.8"
  }
 },
 "nbformat": 4,
 "nbformat_minor": 2
}
