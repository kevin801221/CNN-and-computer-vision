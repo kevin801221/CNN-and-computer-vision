{
  "nbformat": 4,
  "nbformat_minor": 0,
  "metadata": {
    "colab": {
      "name": "IOU，GIOU，DIOU，CIOU.ipynb",
      "provenance": [],
      "authorship_tag": "ABX9TyMo75ofMNlT3sDe89hjcLSY",
      "include_colab_link": true
    },
    "kernelspec": {
      "name": "python3",
      "display_name": "Python 3"
    },
    "language_info": {
      "name": "python"
    }
  },
  "cells": [
    {
      "cell_type": "markdown",
      "metadata": {
        "id": "view-in-github",
        "colab_type": "text"
      },
      "source": [
        "<a href=\"https://colab.research.google.com/github/kevin801221/CNN-and-computer-vision/blob/master/IOU%EF%BC%8CGIOU%EF%BC%8CDIOU%EF%BC%8CCIOU.ipynb\" target=\"_parent\"><img src=\"https://colab.research.google.com/assets/colab-badge.svg\" alt=\"Open In Colab\"/></a>"
      ]
    },
    {
      "cell_type": "markdown",
      "source": [
        "###IOU 定義"
      ],
      "metadata": {
        "id": "VSY1H5Zy-1JY"
      }
    },
    {
      "cell_type": "code",
      "execution_count": null,
      "metadata": {
        "id": "ppGSH8HS-gYQ"
      },
      "outputs": [],
      "source": [
        "import numpy as np\n",
        "def Iou(box1, box2, wh=False):\n",
        "    if wh == False:\n",
        "\txmin1, ymin1, xmax1, ymax1 = box1\n",
        "\txmin2, ymin2, xmax2, ymax2 = box2\n",
        "    else:\n",
        "\txmin1, ymin1 = int(box1[0]-box1[2]/2.0), int(box1[1]-box1[3]/2.0)\n",
        "\txmax1, ymax1 = int(box1[0]+box1[2]/2.0), int(box1[1]+box1[3]/2.0)\n",
        "\txmin2, ymin2 = int(box2[0]-box2[2]/2.0), int(box2[1]-box2[3]/2.0)\n",
        "\txmax2, ymax2 = int(box2[0]+box2[2]/2.0), int(box2[1]+box2[3]/2.0)\n",
        "    # 获取矩形框交集对应的左上角和右下角的坐标（intersection）\n",
        "    xx1 = np.max([xmin1, xmin2])\n",
        "    yy1 = np.max([ymin1, ymin2])\n",
        "    xx2 = np.min([xmax1, xmax2])\n",
        "    yy2 = np.min([ymax1, ymax2])\t\n",
        "    # 计算两个矩形框面积\n",
        "    area1 = (xmax1-xmin1) * (ymax1-ymin1) \n",
        "    area2 = (xmax2-xmin2) * (ymax2-ymin2)\n",
        "    inter_area = (np.max([0, xx2-xx1])) * (np.max([0, yy2-yy1]))　#计算交集面积\n",
        "    iou = inter_area / (area1+area2-inter_area+1e-6) 　#计算交并比\n",
        "\n",
        "    return iou"
      ]
    },
    {
      "cell_type": "markdown",
      "source": [
        "###GIOU 定義"
      ],
      "metadata": {
        "id": "DuqMpPxB_7nK"
      }
    },
    {
      "cell_type": "code",
      "source": [
        "def Giou(rec1,rec2):\n",
        "    #分别是第一个矩形左右上下的坐标\n",
        "    x1,x2,y1,y2 = rec1 \n",
        "    x3,x4,y3,y4 = rec2\n",
        "    iou = Iou(rec1,rec2)\n",
        "    area_C = (max(x1,x2,x3,x4)-min(x1,x2,x3,x4))*(max(y1,y2,y3,y4)-min(y1,y2,y3,y4))\n",
        "    area_1 = (x2-x1)*(y1-y2)\n",
        "    area_2 = (x4-x3)*(y3-y4)\n",
        "    sum_area = area_1 + area_2\n",
        "\n",
        "    w1 = x2 - x1   #第一个矩形的宽\n",
        "    w2 = x4 - x3   #第二个矩形的宽\n",
        "    h1 = y1 - y2\n",
        "    h2 = y3 - y4\n",
        "    W = min(x1,x2,x3,x4)+w1+w2-max(x1,x2,x3,x4)    #交叉部分的宽\n",
        "    H = min(y1,y2,y3,y4)+h1+h2-max(y1,y2,y3,y4)    #交叉部分的高\n",
        "    Area = W*H    #交叉的面积\n",
        "    add_area = sum_area - Area    #两矩形并集的面积\n",
        "\n",
        "    end_area = (area_C - add_area)/area_C    #闭包区域中不属于两个框的区域占闭包区域的比重\n",
        "    giou = iou - end_area\n",
        "    return giou"
      ],
      "metadata": {
        "id": "6us3qvLc-0B5"
      },
      "execution_count": null,
      "outputs": []
    },
    {
      "cell_type": "markdown",
      "source": [
        "###DIOU 定義"
      ],
      "metadata": {
        "id": "sxLPwlQP_-5B"
      }
    },
    {
      "cell_type": "code",
      "source": [
        "def Diou(bboxes1, bboxes2):\n",
        "    rows = bboxes1.shape[0]\n",
        "    cols = bboxes2.shape[0]\n",
        "    dious = torch.zeros((rows, cols))\n",
        "    if rows * cols == 0:#\n",
        "        return dious\n",
        "    exchange = False\n",
        "    if bboxes1.shape[0] > bboxes2.shape[0]:\n",
        "        bboxes1, bboxes2 = bboxes2, bboxes1\n",
        "        dious = torch.zeros((cols, rows))\n",
        "        exchange = True\n",
        "    # #xmin,ymin,xmax,ymax->[:,0],[:,1],[:,2],[:,3]\n",
        "    w1 = bboxes1[:, 2] - bboxes1[:, 0]\n",
        "    h1 = bboxes1[:, 3] - bboxes1[:, 1] \n",
        "    w2 = bboxes2[:, 2] - bboxes2[:, 0]\n",
        "    h2 = bboxes2[:, 3] - bboxes2[:, 1]\n",
        "    \n",
        "    area1 = w1 * h1\n",
        "    area2 = w2 * h2\n",
        "\n",
        "    center_x1 = (bboxes1[:, 2] + bboxes1[:, 0]) / 2 \n",
        "    center_y1 = (bboxes1[:, 3] + bboxes1[:, 1]) / 2 \n",
        "    center_x2 = (bboxes2[:, 2] + bboxes2[:, 0]) / 2\n",
        "    center_y2 = (bboxes2[:, 3] + bboxes2[:, 1]) / 2\n",
        "\n",
        "    inter_max_xy = torch.min(bboxes1[:, 2:],bboxes2[:, 2:]) \n",
        "    inter_min_xy = torch.max(bboxes1[:, :2],bboxes2[:, :2]) \n",
        "    out_max_xy = torch.max(bboxes1[:, 2:],bboxes2[:, 2:]) \n",
        "    out_min_xy = torch.min(bboxes1[:, :2],bboxes2[:, :2])\n",
        "\n",
        "    inter = torch.clamp((inter_max_xy - inter_min_xy), min=0)\n",
        "    inter_area = inter[:, 0] * inter[:, 1]\n",
        "    inter_diag = (center_x2 - center_x1)**2 + (center_y2 - center_y1)**2\n",
        "    outer = torch.clamp((out_max_xy - out_min_xy), min=0)\n",
        "    outer_diag = (outer[:, 0] ** 2) + (outer[:, 1] ** 2)\n",
        "    union = area1+area2-inter_area\n",
        "    dious = inter_area / union - (inter_diag) / outer_diag\n",
        "    dious = torch.clamp(dious,min=-1.0,max = 1.0)\n",
        "    if exchange:\n",
        "        dious = dious.T\n",
        "    return dious"
      ],
      "metadata": {
        "id": "hCSNfqmyAE-e"
      },
      "execution_count": null,
      "outputs": []
    },
    {
      "cell_type": "markdown",
      "source": [
        "###CIOU 定義"
      ],
      "metadata": {
        "id": "O_BMS2obA10m"
      }
    },
    {
      "cell_type": "code",
      "source": [
        "def bbox_overlaps_ciou(bboxes1, bboxes2):\n",
        "    rows = bboxes1.shape[0]\n",
        "    cols = bboxes2.shape[0]\n",
        "    cious = torch.zeros((rows, cols))\n",
        "    if rows * cols == 0:\n",
        "        return cious\n",
        "    exchange = False\n",
        "    if bboxes1.shape[0] > bboxes2.shape[0]:\n",
        "        bboxes1, bboxes2 = bboxes2, bboxes1\n",
        "        cious = torch.zeros((cols, rows))\n",
        "        exchange = True\n",
        "\n",
        "    w1 = bboxes1[:, 2] - bboxes1[:, 0]\n",
        "    h1 = bboxes1[:, 3] - bboxes1[:, 1]\n",
        "    w2 = bboxes2[:, 2] - bboxes2[:, 0]\n",
        "    h2 = bboxes2[:, 3] - bboxes2[:, 1]\n",
        "\n",
        "    area1 = w1 * h1\n",
        "    area2 = w2 * h2\n",
        "\n",
        "    center_x1 = (bboxes1[:, 2] + bboxes1[:, 0]) / 2\n",
        "    center_y1 = (bboxes1[:, 3] + bboxes1[:, 1]) / 2\n",
        "    center_x2 = (bboxes2[:, 2] + bboxes2[:, 0]) / 2\n",
        "    center_y2 = (bboxes2[:, 3] + bboxes2[:, 1]) / 2\n",
        "\n",
        "    inter_max_xy = torch.min(bboxes1[:, 2:],bboxes2[:, 2:])\n",
        "    inter_min_xy = torch.max(bboxes1[:, :2],bboxes2[:, :2])\n",
        "    out_max_xy = torch.max(bboxes1[:, 2:],bboxes2[:, 2:])\n",
        "    out_min_xy = torch.min(bboxes1[:, :2],bboxes2[:, :2])\n",
        "\n",
        "    inter = torch.clamp((inter_max_xy - inter_min_xy), min=0)\n",
        "    inter_area = inter[:, 0] * inter[:, 1]\n",
        "    inter_diag = (center_x2 - center_x1)**2 + (center_y2 - center_y1)**2\n",
        "    outer = torch.clamp((out_max_xy - out_min_xy), min=0)\n",
        "    outer_diag = (outer[:, 0] ** 2) + (outer[:, 1] ** 2)\n",
        "    union = area1+area2-inter_area\n",
        "    u = (inter_diag) / outer_diag\n",
        "    iou = inter_area / union\n",
        "    with torch.no_grad():\n",
        "        arctan = torch.atan(w2 / h2) - torch.atan(w1 / h1)\n",
        "        v = (4 / (math.pi ** 2)) * torch.pow((torch.atan(w2 / h2) - torch.atan(w1 / h1)), 2)\n",
        "        S = 1 - iou\n",
        "        alpha = v / (S + v)\n",
        "        w_temp = 2 * w1\n",
        "    ar = (8 / (math.pi ** 2)) * arctan * ((w1 - w_temp) * h1)\n",
        "    cious = iou - (u + alpha * ar)\n",
        "    cious = torch.clamp(cious,min=-1.0,max = 1.0)\n",
        "    if exchange:\n",
        "        cious = cious.T\n",
        "    return cious"
      ],
      "metadata": {
        "id": "IipsnyQfA3WI"
      },
      "execution_count": null,
      "outputs": []
    }
  ]
}