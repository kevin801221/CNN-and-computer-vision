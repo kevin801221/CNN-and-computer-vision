{
  "cells": [
    {
      "cell_type": "markdown",
      "metadata": {
        "id": "view-in-github",
        "colab_type": "text"
      },
      "source": [
        "<a href=\"https://colab.research.google.com/github/kevin801221/CNN-and-computer-vision/blob/master/1_DANN_MNIST_M.ipynb\" target=\"_parent\"><img src=\"https://colab.research.google.com/assets/colab-badge.svg\" alt=\"Open In Colab\"/></a>"
      ]
    },
    {
      "cell_type": "markdown",
      "metadata": {
        "id": "b5cFq_TgWlQ_"
      },
      "source": [
        "# Domain Adaptation: Domain Adversarial Training of Nerural Networks (DANN)"
      ]
    },
    {
      "cell_type": "markdown",
      "metadata": {
        "id": "8TaPXIueziCE"
      },
      "source": [
        "**Notebook內容：**\n",
        "1. 先備知識\n",
        "2. 資料探索與資料讀取\n",
        "3. 模型/演算法\n",
        "4. 模型訓練\n",
        "5. 預測&評估\n",
        "6. 練習\n",
        "7. 參考資料"
      ]
    },
    {
      "cell_type": "markdown",
      "metadata": {
        "id": "CBI051ByziKT"
      },
      "source": [
        "## 1.先備知識"
      ]
    },
    {
      "cell_type": "markdown",
      "metadata": {
        "id": "7ZsVafTCEVdW"
      },
      "source": [
        "### 1.1 Domain Adaptation前情提要\n",
        "* Target task與source task目標類似(e.g. 都是五種類的分類)\n",
        "* Domain: 資料來源的領域(e.g. 來自於男生或女生；來自於X光片或來自於拍照)，不同領域會有實際意義上的差別\n",
        "* Target domain與source domain差異很大(domain shift)導致測試效果不佳 (e.g. Source 使用3D模擬截圖、target使用真實世界照片)\n",
        "* 但可能目標資料標註少或者沒有太多資料，導致無法簡單的在目標資料集上做好fine-tune training\n",
        "* 在source dataset訓練完後，(合併)target dataset做adaptation\n",
        "* 技巧大致分為: \n",
        "    * Discrepancy-based\n",
        "        * 額外計算target與source data在latent space中的距離並拉近兩者距離\n",
        "    * Adversarial-based\n",
        "        * 額外的對抗訓練一個domian分類器並使分類器混淆target與source data\n",
        "    * Reconstruction\u0002-based\n",
        "        * 額外的訓練輸入還原模型增強模型對domain shift的不變性\n"
      ]
    },
    {
      "cell_type": "markdown",
      "metadata": {
        "id": "MjPIwZYTI3Kt"
      },
      "source": [
        "1.2 Domain Adversarial Training of Nerural Networks\n",
        "* 訓練目標:\n",
        "    * 在對抗訓練時訓練feature extraction網路，使得feature extraction網路能騙過Domain classifier，並且能做準確的類別分類(或者其他目標)    \n",
        "    * 當Domain classifier無法分辨input到底來自於哪個domain時便成功\n",
        "    * 這訓練能拉近Domain latent vectors間的距離或相似性\n",
        "    <img src=https://i.imgur.com/N4oKHa7.png  width=\"600\" height=\"250\">\n",
        "* 意義: \n",
        "    * 屬於Adversarial-based\n",
        "    * 可以是Unsupervised Domain Adaptation，不需要target label\n",
        "    * 其實是一個model agnostic的方案，可以使用在各種任務中(e.g. 分類、迴歸、物件偵測等等)\n",
        "* 結構: \n",
        "    * 使用feature extraction將無論來自於哪個domain的輸入投射至latent space成為latent vector\n",
        "    * 將剛剛的latent vector丟入兩個網路:\n",
        "        1. Label predictor: 預測類別\n",
        "        2. Domain Classifier: 預測輸入來自哪個domain"
      ]
    },
    {
      "cell_type": "markdown",
      "metadata": {
        "id": "o5d0wbPYNFqu"
      },
      "source": [
        "<img src=https://i.imgur.com/8XS2oyq.png  width=\"500\" height=\"250\">"
      ]
    },
    {
      "cell_type": "markdown",
      "metadata": {
        "id": "LVuhhNHHOE2A"
      },
      "source": [
        "* 訓練方式: \n",
        "    1. 訓練domain classifier:\n",
        "        * 輸入source，資料domain classifier輸出與1(是source)做binary cross entropy\n",
        "        * 輸入target，資料domain classifier輸出與0(是target)做binary cross entropy\n",
        "    2. 訓練label predictor與feature extractor:\n",
        "        * 輸入source資料，domain classifier輸出與1(是source)做負的binary cross entropy\n",
        "        * 輸入target資料，domain classifier輸出與0(是target)做負的binary cross entropy\n",
        "        * 輸入source資料，label predictor 輸出與label做categorical cross entropy\n",
        "* 使用方式: \n",
        "    * 經過以上訓練後，就不管domain classifier直接對target domain資料做類別預測"
      ]
    },
    {
      "cell_type": "markdown",
      "metadata": {
        "id": "110LyQzyziQT"
      },
      "source": [
        "## 2.資料讀取"
      ]
    },
    {
      "cell_type": "code",
      "execution_count": null,
      "metadata": {
        "id": "DF-i0sVlnUbq",
        "colab": {
          "base_uri": "https://localhost:8080/"
        },
        "outputId": "bbda8572-2626-430b-ba03-93f1c4abcd83"
      },
      "outputs": [
        {
          "output_type": "stream",
          "name": "stdout",
          "text": [
            "  Installing build dependencies ... \u001b[?25l\u001b[?25hdone\n",
            "  Getting requirements to build wheel ... \u001b[?25l\u001b[?25hdone\n",
            "    Preparing wheel metadata ... \u001b[?25l\u001b[?25hdone\n",
            "  Building wheel for gdown (PEP 517) ... \u001b[?25l\u001b[?25hdone\n"
          ]
        }
      ],
      "source": [
        "# 升級 gdown 套件\n",
        "!pip install -q --upgrade gdown\n",
        "# Download dataset\n",
        "!gdown -q  https://drive.google.com/u/0/uc?id=1XagZtTeUhFWiXvlZabja0XJhBMwQFl6j&export=download\n",
        "# Unzip the files\n",
        "!tar zxf  mnistm_half.tar.gz"
      ]
    },
    {
      "cell_type": "code",
      "execution_count": null,
      "metadata": {
        "id": "2LDO1LStBbdR"
      },
      "outputs": [],
      "source": [
        "# 讀取基本套件\n",
        "from glob import glob\n",
        "import numpy as np\n",
        "import matplotlib.pyplot as plt\n",
        "# Backend: pytorch\n",
        "import torch"
      ]
    },
    {
      "cell_type": "markdown",
      "metadata": {
        "id": "3-qnUkspmap3"
      },
      "source": [
        "### 2.1 範例內容\n",
        "* 資料來源: \n",
        "    * Source: [MNIST](http://yann.lecun.com/exdb/mnist/) 0~9 數字圖片資料\n",
        "    * Target: [MNIST-M](https://paperswithcode.com/dataset/mnist-m) 0~9 數字圖片混入BSDS500照片資料庫背景\n",
        "\n",
        "* Label: \n",
        "    * Source data label 0~9\n",
        "    * target data 不使用label訓練，純粹驗證用"
      ]
    },
    {
      "cell_type": "code",
      "execution_count": null,
      "metadata": {
        "id": "HYdlD7b5wWmc"
      },
      "outputs": [],
      "source": [
        "# 設一個 show data和label的function\n",
        "def show_data(imgs, titles,cmap=None):\n",
        "    # imshow, 縮放模式為nearest。\n",
        "    plt.figure(figsize=(18, 18))\n",
        "    for id,(img,title) in enumerate(zip(imgs,titles)):\n",
        "        plt.subplot(1, len(titles), id+1)\n",
        "        fig = plt.imshow(img,interpolation='nearest',cmap=cmap)\n",
        "        plt.axis(\"off\")\n",
        "        plt.title(title)"
      ]
    },
    {
      "cell_type": "code",
      "execution_count": null,
      "metadata": {
        "colab": {
          "base_uri": "https://localhost:8080/",
          "height": 132
        },
        "id": "0_uO-ZSDoR6i",
        "outputId": "332d675a-c3cf-4204-c556-8c9e103e4a89"
      },
      "outputs": [
        {
          "output_type": "display_data",
          "data": {
            "text/plain": [
              "<Figure size 1296x1296 with 10 Axes>"
            ],
            "image/png": "[encoded data removed]"
          },
          "metadata": {
            "needs_background": "light"
          }
        }
      ],
      "source": [
        "# 看source data: \n",
        "titles = ['0', '1', '2', '3', '4', '5', '6', '7', '8', '9']\n",
        "example_files=[glob(f\"mnistm_half/mnist_test/{i}/*.png\")[0] for i in titles]\n",
        "show_data([*map(plt.imread,example_files)],titles)"
      ]
    },
    {
      "cell_type": "code",
      "execution_count": null,
      "metadata": {
        "colab": {
          "base_uri": "https://localhost:8080/",
          "height": 132
        },
        "id": "3eMs7DbVt4Ee",
        "outputId": "aa87c99f-7de6-4f90-cc9b-9c92a5cc31c6"
      },
      "outputs": [
        {
          "output_type": "display_data",
          "data": {
            "text/plain": [
              "<Figure size 1296x1296 with 10 Axes>"
            ],
            "image/png": "[encoded data removed]"
          },
          "metadata": {
            "needs_background": "light"
          }
        }
      ],
      "source": [
        "# 看target data\n",
        "example_files=[glob(f\"mnistm_half/mnist_m_train/{i}/*.png\")[0] for i in titles]\n",
        "show_data([*map(plt.imread,example_files)],titles)"
      ]
    },
    {
      "cell_type": "markdown",
      "metadata": {
        "id": "NQqvzMr9dAUQ"
      },
      "source": [
        "### 2.2 Data Loader設計\n",
        "這邊我們三個loader\n",
        "* source: 來源資料集，有MNIST圖片，也有對應的label\n",
        "* target: 目標資料集，只有有MNIST-M 圖片，沒有label\n",
        "* test: 測試資料集，有MNIST-M圖片，也有對應的label\n",
        "\n",
        "Data Loader的要件:\n",
        "* dataset: torchvision的VisionDataset，我們這邊使用ImageFolder作，只要把圖片依照分類放進資料夾就能依照資料夾名稱指定分類：\n",
        "```\n",
        "data_root\n",
        "|--class 1\n",
        "|   |--image 1\n",
        "|   |--image 2\n",
        "|   ...\n",
        "|--class 2\n",
        "|   |--image 3\n",
        "...\n",
        "```\n",
        "* transform: augmentation function，這邊使用torchvision.transforms來做，也推薦[cv2 wrapaffine](https://theailearner.com/tag/cv2-warpaffine/)或者[albumentation](https://github.com/albumentations-team/albumentations)，因為這是Deep Learning CV的基本所以這邊不多贅述。"
      ]
    },
    {
      "cell_type": "code",
      "execution_count": null,
      "metadata": {
        "id": "4ob_h8NBcJBR"
      },
      "outputs": [],
      "source": [
        "import torchvision.transforms as tvt\n",
        "import torchvision.datasets as tvds\n",
        "\n",
        "train_transform = tvt.Compose([\n",
        "    tvt.RandomHorizontalFlip(),\n",
        "    # 旋轉15度內 (Augmentation)，旋轉後空的地方補0\n",
        "    tvt.RandomRotation(15, fill=(0,0,0)),\n",
        "    # 最後轉成Tensor供model使用。\n",
        "    tvt.ToTensor(),\n",
        "])\n",
        "test_transform = tvt.Compose([\n",
        "    tvt.ToTensor(),\n",
        "])\n",
        "\n",
        "# Source套用source的transform\n",
        "source_dataset = tvds.ImageFolder('mnistm_half/mnist_train', transform=train_transform)\n",
        "# Target套用target的transform\n",
        "target_dataset = tvds.ImageFolder('mnistm_half/mnist_m_train', transform=train_transform)\n",
        "# Testing與Target那邊一樣資料，但會把label拿起來算準確度\n",
        "test_dataset = tvds.ImageFolder('mnistm_half/mnist_m_test', transform=test_transform)"
      ]
    },
    {
      "cell_type": "markdown",
      "metadata": {
        "id": "Um7FbWM-ke3m"
      },
      "source": [
        "* dataloader: torch 本身的dataloader class，可以將上述loader的function做batching，以及安排shuffle和多線程等動作"
      ]
    },
    {
      "cell_type": "code",
      "execution_count": null,
      "metadata": {
        "id": "WZHIBGknmi8Z"
      },
      "outputs": [],
      "source": [
        "from torch.utils.data import DataLoader\n",
        "# source跟target都使用小batch size\n",
        "BS_TRAIN=32\n",
        "BS_TEST=128\n",
        "set_loader=lambda ldr: DataLoader(ldr, \n",
        "                                batch_size=BS_TRAIN,\n",
        "                                shuffle=True,\n",
        "                                num_workers=2,\n",
        "                                pin_memory=True)\n",
        "source_dataloader,target_dataloader = [*map(set_loader,(source_dataset,target_dataset))]\n",
        "# test dataset因為沒有gradient紀錄，GPU記憶體用量較小，所以可以開大一點batch size\n",
        "test_dataloader = DataLoader(test_dataset,\n",
        "                             batch_size=BS_TEST,\n",
        "                             shuffle=False,\n",
        "                             num_workers=2,\n",
        "                             pin_memory=True)"
      ]
    },
    {
      "cell_type": "markdown",
      "metadata": {
        "id": "2USkF0Psz7vz"
      },
      "source": [
        "## 3.模型/演算法"
      ]
    },
    {
      "cell_type": "markdown",
      "metadata": {
        "id": "9Lmr7e1Plnxe"
      },
      "source": [
        "### 3.1 Cell Classes\n",
        "* convolution cell: convolution->normalization->activation->pooling組合\n",
        "* dense cell: dense->normalization->activation組合"
      ]
    },
    {
      "cell_type": "code",
      "execution_count": null,
      "metadata": {
        "id": "90-yqeBjWkFW"
      },
      "outputs": [],
      "source": [
        "import torch.nn as nn\n",
        "# convolution cell: \n",
        "class conv(nn.Module):\n",
        "    def __init__(self,ch_in,ch_out):\n",
        "        super().__init__()\n",
        "        self.cell=nn.Sequential(\n",
        "            nn.Conv2d(ch_in, ch_out, 3, 1, 1),\n",
        "            nn.InstanceNorm2d(ch_out),\n",
        "            nn.ReLU(),\n",
        "            nn.MaxPool2d(2),\n",
        "            nn.Dropout(0.2)\n",
        "        )\n",
        "    def forward(self,x):\n",
        "        return self.cell(x)\n",
        "# dense cell: \n",
        "class dense(nn.Module):\n",
        "    def __init__(self,ch_in=512,ch_out=512):\n",
        "        super().__init__()\n",
        "        self.cell=nn.Sequential(\n",
        "            nn.Linear(ch_in, ch_out),\n",
        "            nn.BatchNorm1d(ch_out),\n",
        "            nn.ReLU(),\n",
        "            nn.Dropout(0.2)\n",
        "        )\n",
        "    def forward(self,x):\n",
        "        return self.cell(x)"
      ]
    },
    {
      "cell_type": "markdown",
      "metadata": {
        "id": "2YWzuWppqIau"
      },
      "source": [
        "### 3.2 Model Construction\n",
        "這次模型包含:\n",
        "* Feature Extractor: 針對圖片這邊使用數層CNN\n",
        "* Label Predictor: 針對latent vector計算，所以用DNN就好\n",
        "* Domain Classifier: 針對latent vector計算，所以用DNN就好"
      ]
    },
    {
      "cell_type": "code",
      "execution_count": null,
      "metadata": {
        "id": "3uw2eP09z-pD"
      },
      "outputs": [],
      "source": [
        "from torch.nn.modules.pooling import AdaptiveAvgPool2d\n",
        "# FeatureExtractor, 弄個4層cnn\n",
        "class FeatureExtractor(nn.Module):\n",
        "    def __init__(self,hidden_featrues=(64,128,256,512)):\n",
        "        super().__init__()\n",
        "        self.blocks = nn.Sequential(\n",
        "            conv(3,hidden_featrues[0]),\n",
        "            *[conv(ch1, ch2) for ch1,ch2 in zip(hidden_featrues[:-1],hidden_featrues[1:])],\n",
        "            nn.AdaptiveAvgPool2d((1,1))\n",
        "        )\n",
        "    def forward(self, x):\n",
        "        return self.blocks(x).squeeze()\n",
        "# LabelPredictor, 弄個兩層dense\n",
        "class LabelPredictor(nn.Module):\n",
        "    def __init__(self,hidden_featrue=512):\n",
        "        super().__init__()\n",
        "        self.blocks = nn.Sequential(\n",
        "            nn.Linear(hidden_featrue, 10),\n",
        "        )\n",
        "    def forward(self, x):\n",
        "        return self.blocks(x)\n",
        "# DomainClassifier, 弄個4層dense\n",
        "class DomainClassifier(nn.Module):\n",
        "    def __init__(self,hidden_featrues=(512,256,128,64)):\n",
        "        super().__init__()\n",
        "        self.blocks = nn.Sequential(\n",
        "            *[dense(ch1, ch2) for ch1,ch2 in zip(hidden_featrues[:-1],hidden_featrues[1:])],\n",
        "            nn.Linear(hidden_featrues[-1], 1),\n",
        "        )\n",
        "\n",
        "    def forward(self, x):\n",
        "        return self.blocks(x)"
      ]
    },
    {
      "cell_type": "markdown",
      "metadata": {
        "id": "a7Mlgm15qRmu"
      },
      "source": [
        "可大致對照回原本組成的三大塊"
      ]
    },
    {
      "cell_type": "markdown",
      "metadata": {
        "id": "jkn-1GtOprFN"
      },
      "source": [
        "<img src=https://i.imgur.com/8XS2oyq.png  width=\"500\" height=\"250\">"
      ]
    },
    {
      "cell_type": "markdown",
      "metadata": {
        "id": "En9Ulcl42OXT"
      },
      "source": [
        "## 4.模型訓練"
      ]
    },
    {
      "cell_type": "markdown",
      "metadata": {
        "id": "lxdBIPhF0Icb"
      },
      "source": [
        "### 4.1 Training Loss& Optimizer\n",
        "可以當成一般分類問題來給訂相關loss、optimizer\n",
        "\n",
        "**Loss function(criterion)**\n",
        "* CCE: nn.CrossEntropyLoss給label predictor output用\n",
        "* BCE: nn.BCEWithLogitsLoss給domain classifier output用"
      ]
    },
    {
      "cell_type": "code",
      "execution_count": null,
      "metadata": {
        "id": "Llb4hZpqr8x_"
      },
      "outputs": [],
      "source": [
        "feature_extractor = FeatureExtractor().cuda()\n",
        "label_predictor = LabelPredictor().cuda()\n",
        "domain_classifier = DomainClassifier().cuda()\n",
        "\n",
        "class_criterion = nn.CrossEntropyLoss()\n",
        "domain_criterion = nn.BCEWithLogitsLoss()"
      ]
    },
    {
      "cell_type": "markdown",
      "metadata": {
        "id": "hXmZr_IYr_xg"
      },
      "source": [
        "**Optimizer**\n",
        "* 這邊使用Adam來作optimization，且三個子模型要分開，因為每個訓練step會有兩個部分:\n",
        "    * 訓練domain classifier\n",
        "    * 訓練label predictor+feature extractor"
      ]
    },
    {
      "cell_type": "code",
      "execution_count": null,
      "metadata": {
        "id": "hrxKelBy0PJ7"
      },
      "outputs": [],
      "source": [
        "import torch.optim as optim\n",
        "# 為了方便我們令一個class可以直接把dictionary key變成其attribute (可以直接用d.key)\n",
        "class Dict:\n",
        "    def __init__(self,d):\n",
        "        self.__dict__=d\n",
        "lr=0.001\n",
        "optimizers=Dict({name:optim.Adam(m.parameters(),lr=lr) for name,m in \n",
        "                ((\"FE\",feature_extractor),\n",
        "                (\"LP\",label_predictor),\n",
        "                (\"DC\",domain_classifier))\n",
        "                })"
      ]
    },
    {
      "cell_type": "markdown",
      "metadata": {
        "id": "A6-cytwps_jJ"
      },
      "source": [
        "若有調整model可以看一下summary確定axis數、每個axis維度是否如預期"
      ]
    },
    {
      "cell_type": "code",
      "execution_count": null,
      "metadata": {
        "id": "d-Wm49CynRPw"
      },
      "outputs": [],
      "source": [
        "# from torchsummary import summary\n",
        "# summary(feature_extractor, (3, 224, 224))\n",
        "# summary(label_predictor, (3, 224, 224))\n",
        "# summary(domain_classifier, (3, 224, 224))"
      ]
    },
    {
      "cell_type": "markdown",
      "metadata": {
        "id": "xuAE4cqJ0itR"
      },
      "source": [
        "### 4.2 Training Parameters& Callbacks\n",
        "\n",
        "**Parameters**\n",
        "- EPOCHS: 先設一個很大的數，當訓練不下去時也可以手動停止\n",
        "- DISC_LOOPS: Discrimination可以比較多次一點，增加Discriminator強度\n",
        "\n",
        "**Callbacks**\n",
        "- Learning rate scheduling: ReduceLROnPlateau-模型訓練不下去時learning rate減少\n"
      ]
    },
    {
      "cell_type": "code",
      "execution_count": null,
      "metadata": {
        "id": "rkadUL6ntuZ9"
      },
      "outputs": [],
      "source": [
        "EPOCHS=20\n",
        "DISC_LOOPS=2 # Domain Classifier重複訓練次數\n",
        "# For scheduler\n",
        "# schedulers=Dict({\n",
        "#     k:optim.lr_scheduler.ReduceLROnPlateau(v, mode='min', factor=0.1, patience=5)\n",
        "#     for k,v in optimizers.__dict__.items()\n",
        "#     }) "
      ]
    },
    {
      "cell_type": "markdown",
      "metadata": {
        "id": "MzfC2pxXyaru"
      },
      "source": [
        "### 4.3Training Flow"
      ]
    },
    {
      "cell_type": "code",
      "source": [
        "def train_epoch(source_dataloader, target_dataloader, lamb,with_da=True):\n",
        "    running_D_loss, running_F_loss = 0.0, 0.0 # Domain Classifier的loss和Feature Extrator & Label Predictor的loss\n",
        "    total_hit, total_num = 0.0, 0.0 # total_hit: 計算目前對了幾筆 total_num: 目前經過了幾筆\n",
        "    \n",
        "       \n",
        "    for i, ((source_data, source_label), (target_data, _)) in enumerate(zip(source_dataloader, target_dataloader)):\n",
        "        source_data = source_data.cuda()\n",
        "        source_label = source_label.cuda()\n",
        "        target_data = target_data.cuda()\n",
        "        \n",
        "        # 我們把source data和target data混在一起，讓normalization標準一致\n",
        "        mixed_data = torch.cat([source_data, target_data], dim=0)\n",
        "        # 設定source data的domain label為1, target的為0\n",
        "        domain_label = torch.zeros([source_data.shape[0] + target_data.shape[0], 1]).cuda()\n",
        "        domain_label[:source_data.shape[0]] = 1\n",
        "\n",
        "        # 訓練Domain Classifier\n",
        "        feature_extractor.eval()\n",
        "        domain_classifier.train()\n",
        "        for _ in range(DISC_LOOPS):\n",
        "            if _==DISC_LOOPS-1:\n",
        "                feature = feature_extractor(mixed_data)\n",
        "            else:\n",
        "                with torch.no_grad():\n",
        "                    feature = feature_extractor(mixed_data)\n",
        "            # 不需要訓練Feature Extractor，所以把feature detach避免loss backprop上去。\n",
        "            domain_logits = domain_classifier(feature.detach())\n",
        "            loss = domain_criterion(domain_logits, domain_label)\n",
        "            running_D_loss+= loss.item()\n",
        "            loss.backward()\n",
        "            optimizers.DC.step()\n",
        "            optimizers.DC.zero_grad()\n",
        "\n",
        "        feature_extractor.train()\n",
        "        domain_classifier.eval()\n",
        "        # 訓練Feature Extractor和Label Predictor\n",
        "        class_logits = label_predictor(feature[:source_data.shape[0]])\n",
        "        domain_logits = domain_classifier(feature)\n",
        "        # loss為原本的class CE - lamb * domain loss\n",
        "        # 將Discriminator。\n",
        "        loss = class_criterion(class_logits, source_label) - lamb * domain_criterion(domain_logits, domain_label)\n",
        "        loss=torch.clip(loss,min=1e-8)\n",
        "        running_F_loss+= loss.item()\n",
        "        loss.backward()\n",
        "        \n",
        "        optimizers.FE.step()\n",
        "        # schedulers.FE.step(loss) # For scheduler\n",
        "        optimizers.LP.step()\n",
        "        # schedulers.LP.step(loss) # For scheduler\n",
        "\n",
        "        optimizers.DC.zero_grad()        \n",
        "        optimizers.FE.zero_grad()\n",
        "        optimizers.LP.zero_grad()\n",
        "\n",
        "        total_hit += torch.sum(torch.argmax(class_logits, dim=1) == source_label).item()\n",
        "        total_num += source_data.shape[0]\n",
        "        print(i, end='\\r')\n",
        "        #       D loss                F loss                     acc\n",
        "    return running_D_loss/DISC_LOOPS/(i+1), running_F_loss / (i+1), total_hit / total_num"
      ],
      "metadata": {
        "id": "8R7xQjiQujgn"
      },
      "execution_count": null,
      "outputs": []
    },
    {
      "cell_type": "code",
      "execution_count": null,
      "metadata": {
        "colab": {
          "base_uri": "https://localhost:8080/"
        },
        "id": "lRAFFKvX0p9y",
        "outputId": "ef349134-3976-4682-932b-db5c0e7a97f1"
      },
      "outputs": [
        {
          "output_type": "stream",
          "name": "stdout",
          "text": [
            "epoch   0: DC loss: 0.4866, FE+LP l1oss: 0.2456, acc 0.9029\n",
            "epoch   1: DC loss: 0.5118, FE+LP l1oss: 0.0783, acc 0.9591\n",
            "epoch   2: DC loss: 0.5241, FE+LP l1oss: 0.0613, acc 0.9674\n",
            "epoch   3: DC loss: 0.5196, FE+LP l1oss: 0.0471, acc 0.9725\n",
            "epoch   4: DC loss: 0.5226, FE+LP l1oss: 0.0423, acc 0.9736\n",
            "epoch   5: DC loss: 0.5254, FE+LP l1oss: 0.0343, acc 0.9769\n",
            "epoch   6: DC loss: 0.5266, FE+LP l1oss: 0.0320, acc 0.9777\n",
            "epoch   7: DC loss: 0.5265, FE+LP l1oss: 0.0273, acc 0.9803\n",
            "epoch   8: DC loss: 0.5199, FE+LP l1oss: 0.0248, acc 0.9820\n",
            "epoch   9: DC loss: 0.5240, FE+LP l1oss: 0.0253, acc 0.9809\n",
            "epoch  10: DC loss: 0.5219, FE+LP l1oss: 0.0202, acc 0.9841\n",
            "epoch  11: DC loss: 0.5240, FE+LP l1oss: 0.0201, acc 0.9835\n",
            "epoch  12: DC loss: 0.5244, FE+LP l1oss: 0.0183, acc 0.9849\n",
            "epoch  13: DC loss: 0.5193, FE+LP l1oss: 0.0148, acc 0.9860\n",
            "epoch  14: DC loss: 0.5267, FE+LP l1oss: 0.0157, acc 0.9860\n",
            "epoch  15: DC loss: 0.5259, FE+LP l1oss: 0.0159, acc 0.9860\n",
            "epoch  16: DC loss: 0.5271, FE+LP l1oss: 0.0146, acc 0.9865\n",
            "epoch  17: DC loss: 0.5264, FE+LP l1oss: 0.0145, acc 0.9857\n",
            "epoch  18: DC loss: 0.5251, FE+LP l1oss: 0.0121, acc 0.9867\n",
            "epoch  19: DC loss: 0.5283, FE+LP l1oss: 0.0121, acc 0.9876\n"
          ]
        }
      ],
      "source": [
        "# 訓練 epochs\n",
        "try:\n",
        "    for epoch in range(EPOCHS):\n",
        "        # lambda可以開小一點，避免訓練Feature Extractor時loss變成負的\n",
        "        train_D_loss, train_F_loss, train_acc = train_epoch(source_dataloader, target_dataloader, lamb=0.1)\n",
        "\n",
        "        torch.save(feature_extractor.state_dict(), f'extractor_model.bin')\n",
        "        torch.save(label_predictor.state_dict(), f'predictor_model.bin')\n",
        "\n",
        "        print('epoch {:>3d}: DC loss: {:6.4f}, FE+LP l1oss: {:6.4f}, acc {:6.4f}'.format(epoch, train_D_loss, train_F_loss, train_acc))\n",
        "except KeyboardInterrupt:\n",
        "    print(\"KeyboardInterrupt\")"
      ]
    },
    {
      "cell_type": "markdown",
      "metadata": {
        "id": "Qd2GYBv_ziWz"
      },
      "source": [
        "## 5.預測&評估\n",
        "把 test_dataset拿出來預測結果，並看在target domain這些沒見過的資料是否能夠預測準確"
      ]
    },
    {
      "cell_type": "code",
      "execution_count": null,
      "metadata": {
        "colab": {
          "base_uri": "https://localhost:8080/"
        },
        "id": "Wly5AgH2jePv",
        "outputId": "b39ff7e9-bc45-45d2-ddcb-5cac051da0c4"
      },
      "outputs": [
        {
          "output_type": "stream",
          "name": "stdout",
          "text": [
            "test acc: 0.6932\n"
          ]
        }
      ],
      "source": [
        "result = []\n",
        "total_test_hit, total_test_num = 0.0, 0.0\n",
        "label_predictor.eval()\n",
        "feature_extractor.eval()\n",
        "with torch.no_grad():\n",
        "    for i, d in enumerate(test_dataloader):\n",
        "        test_data,test_label=[*map(lambda x: x.cuda(),d)]\n",
        "\n",
        "        class_logits = label_predictor(feature_extractor(test_data))\n",
        "\n",
        "        pred = torch.argmax(class_logits, dim=1).cpu().detach().numpy()\n",
        "        result.append(pred)\n",
        "        total_test_hit += torch.sum(torch.argmax(class_logits, dim=1) == test_label).item()\n",
        "        total_test_num += test_data.shape[0]\n",
        "\n",
        "print(\"test acc:\",total_test_hit / total_test_num)"
      ]
    },
    {
      "cell_type": "markdown",
      "metadata": {
        "id": "sWAaLAjpAL4k"
      },
      "source": [
        "## 6.練習"
      ]
    },
    {
      "cell_type": "markdown",
      "metadata": {
        "id": "ltCAtnjuEaaR"
      },
      "source": [
        "1. 請試著調整參數看對結果的影響\n",
        "    * DISC_LOOPS: Domain Classifier的優勢性(一般GAN的訓練會大於1，讓Discriminator較早訓練得快，因為Discriminator較不容易訓練)\n",
        "    * Lamb: Domain classifier回傳反向的gradient影響的比例\n",
        "    * Augmentation: 可新增更多augmentation增加模型穩定度，不過會更難訓練\n",
        "    * Learning rate scheduling: 加入Reduce Learning rate on plateau讓訓練更為fitting\n",
        "    * 修改Feature Extractor，可改用Resnet等架構\n",
        "2. 請試著反過來將MNIST-M作為source、MNIST作為target及testing set，看看訓練效果有沒有改變\n",
        "* e.g.\n",
        "```\n",
        "source_dataset = tvds.ImageFolder('mnistm_half/mnist_m_train', transform=train_transform)\n",
        "target_dataset = tvds.ImageFolder('mnistm_half/mnist_train', transform=train_transform)\n",
        "test_dataset = tvds.ImageFolder('mnistm_half/mnist_test', transform=test_transform)\n",
        "```\n",
        "\n",
        "3. 請將Domain Adaptation部分拿掉，看看測試集的performance改變\n",
        "* e.g.\n",
        "```\n",
        "# # 訓練Domain Classifier\n",
        "# domain_classifier.train()\n",
        "# for _ in range(DISC_LOOPS):\n",
        "with torch.no_grad():\n",
        "    feature = feature_extractor(mixed_data)\n",
        "#     loss = domain_criterion(domain_logits, domain_label)\n",
        "#     running_D_loss+= loss.item()\n",
        "#     loss.backward()\n",
        "#     optimizers.DC.step()\n",
        "#     # schedulers.DC.step(loss) # For scheduler\n",
        "#     optimizers.DC.zero_grad()\n",
        "...\n",
        "# 訓練Feature Extractor和Label Predictor\n",
        "# domain_classifier.eval()\n",
        "# class_logits = label_predictor(feature[:source_data.shape[0]])\n",
        "# domain_logits = domain_classifier(feature)\n",
        "# # loss為原本的class CE - lamb * domain loss\n",
        "# # 將Discriminator。\n",
        "loss = class_criterion(class_logits, source_label)\n",
        "running_F_loss+= loss.item()\n",
        "loss.backward()\n",
        "```"
      ]
    },
    {
      "cell_type": "markdown",
      "metadata": {
        "id": "0S0236RNAZ8j"
      },
      "source": [
        "## 7. 參考資料\n",
        "* [Wang, M., & Deng, W. (2018). Deep visual domain adaptation: A survey. Neurocomputing, 312, 135-153.](https://arxiv.org/abs/1802.03601)\n",
        "    - Domain Adaptation的 Survey Paper\n",
        "    - 包含Discrepancy-based、Adversarial-based、Reconstruction\u0002-based三種流派的介紹\n",
        "    \n",
        "* [Ganin, Y., Ustinova, E., Ajakan, H., Germain, P., Larochelle, H., Laviolette, F., ... & Lempitsky, V. (2016). Domain-adversarial training of neural networks. The journal of machine learning research, 17(1), 2096-2030.](https://arxiv.org/pdf/1505.07818.pdf)\n",
        "    - Domain Adversarial Training of Nerural Networks原文\n",
        "\n",
        "* [Paper with code 排名](https://paperswithcode.com/task/domain-adaptation)\n",
        "\n",
        "* [推薦論文集匯](https://github.com/zhaoxin94/awesome-domain-adaptation#object-detection)"
      ]
    },
    {
      "cell_type": "code",
      "execution_count": null,
      "metadata": {
        "id": "Ihk2p473BgTP"
      },
      "outputs": [],
      "source": [
        ""
      ]
    }
  ],
  "metadata": {
    "accelerator": "GPU",
    "colab": {
      "collapsed_sections": [],
      "machine_shape": "hm",
      "name": "1_DANN MNIST-M.ipynb",
      "provenance": [],
      "include_colab_link": true
    },
    "kernelspec": {
      "display_name": "Python 3",
      "name": "python3"
    }
  },
  "nbformat": 4,
  "nbformat_minor": 0
}